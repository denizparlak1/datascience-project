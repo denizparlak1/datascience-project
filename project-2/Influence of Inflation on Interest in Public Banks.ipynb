{
 "cells": [
  {
   "cell_type": "markdown",
   "metadata": {},
   "source": [
    "# Influence of Inflation on Interest in Public Banks\n",
    "\n",
    "    About Data:\n",
    "      *The central bank's own data are used.\n",
    "      *Two different data were used (Interest and Inflation)\n",
    "      *No null value in inflation data.\n",
    "      *\"1 Year and Longer Term Interest\" columns in 2005-2011 null\n",
    "      *Inflation and interest data were combined from different tables.\n",
    "       "
   ]
  },
  {
   "cell_type": "markdown",
   "metadata": {},
   "source": [
    "### About Project\n",
    "    In this project, web scraping, Linear Regression, Validation, CV, Regularization topic are used.\n",
    "    Using the effect of inflation on interest rates, I analyzed annual interest rates.\n",
    "    "
   ]
  },
  {
   "cell_type": "markdown",
   "metadata": {},
   "source": [
    "### Columns Information\n",
    "    Date            :  Date   \n",
    "    TP_EUR_MT01_K   :  Interest rate 1 Month term € \n",
    "    TP_EUR_MT02_K   :  Interest rate 3 Months term € \n",
    "    TP_EUR_MT03_K   :  Interest rate 6 Months term €\n",
    "    TP_EUR_MT04_K   :  Interest rate 1 Year term €\n",
    "    TP_EUR_MT05_K   :  Interest rate 1 Year or long term € \n",
    "    TP_TRY_MT01_K   :  Interest rate 1 Month term Turkish lira\n",
    "    TP_TRY_MT02_K   :  Interest rate 3 Month term Turkish lira\n",
    "    TP_TRY_MT03_K   :  Interest rate 6 Month term Turkish lira\n",
    "    TP_TRY_MT04_K   :  Interest rate 1 year term Turkish lira\n",
    "    TP_TRY_MT05_K   :  Interest rate 1 year or long term Turkish lira\n",
    "    TP_USD_MT01_K   :  Interest rate 1 Month term USD\n",
    "    TP_USD_MT02_K   :  Interest rate 3 Month term USD\n",
    "    TP_USD_MT03_K   :  Interest rate 6 Month term USD\n",
    "    TP_USD_MT04_K   :  Interest rate 1 Year term USD\n",
    "    TP_USD_MT05_K   :  Interest rate 1 Year or long term USD\n",
    "    Yıllık_Değişim  :  Annual inflation rate\n",
    "    Aylık_Değişim   :  Monthly inflation rate\n"
   ]
  },
  {
   "cell_type": "code",
   "execution_count": 1198,
   "metadata": {},
   "outputs": [],
   "source": [
    "# Let's start load data and basic EDA\n",
    "# First libraries\n",
    "\n",
    "import pandas as pd\n",
    "import numpy as np\n",
    "import seaborn as sns\n",
    "import matplotlib.pyplot as plt\n",
    "from urllib.request import urlopen\n",
    "from bs4 import BeautifulSoup\n",
    "\n",
    "\n",
    "interest = pd.read_csv('C:/Users/Deniz/Desktop/New Microsoft Excel Worksheet.csv')\n",
    "\n",
    "url = 'https://www.tcmb.gov.tr/wps/wcm/connect/TR/TCMB+TR/Main+Menu/Istatistikler/Enflasyon+Verileri/Tuketici+Fiyatlari'\n",
    "html = urlopen(url)\n",
    "soup = BeautifulSoup(html,'lxml')"
   ]
  },
  {
   "cell_type": "code",
   "execution_count": 1199,
   "metadata": {
    "collapsed": true
   },
   "outputs": [
    {
     "name": "stdout",
     "output_type": "stream",
     "text": [
      "['02-2020', '12.37', '0.35']\n",
      "['01-2020', '12.15', '1.35']\n",
      "['12-2019', '11.84', '0.74']\n",
      "['11-2019', '10.56', '0.38']\n",
      "['10-2019', '8.55', '2']\n",
      "['09-2019', '9.26', '0.99']\n",
      "['08-2019', '15.01', '0.86']\n",
      "['07-2019', '16.65', '1.36']\n",
      "['06-2019', '15.72', '0.03']\n",
      "['05-2019', '18.71', '0.95']\n",
      "['04-2019', '19.50', '1.69']\n",
      "['03-2019', '19.71', '1.03']\n",
      "['02-2019', '19.67', '0.16']\n",
      "['01-2019', '20.35', '1.06']\n",
      "['12-2018', '20.30', '-0.40']\n",
      "['11-2018', '21.62', '-1.44']\n",
      "['10-2018', '25.24', '2.67']\n",
      "['09-2018', '24.52', '6.30']\n",
      "['08-2018', '17.90', '2.30']\n",
      "['07-2018', '15.85', '0.55']\n",
      "['06-2018', '15.39', '2.61']\n",
      "['05-2018', '12.15', '1.62']\n",
      "['04-2018', '10.85', '1.87']\n",
      "['03-2018', '10.23', '0.99']\n",
      "['02-2018', '10.26', '0.73']\n",
      "['01-2018', '10.35', '1.02']\n",
      "['12-2017', '11.92', '0.69']\n",
      "['11-2017', '12.98', '1.49']\n",
      "['10-2017', '11.90', '2.08']\n",
      "['09-2017', '11.20', '0.65']\n",
      "['08-2017', '10.68', '0.52']\n",
      "['07-2017', '9.79', '0.15']\n",
      "['06-2017', '10.90', '-0.27']\n",
      "['05-2017', '11.72', '0.45']\n",
      "['04-2017', '11.87', '1.31']\n",
      "['03-2017', '11.29', '1.02']\n",
      "['02-2017', '10.13', '0.81']\n",
      "['01-2017', '9.22', '2.46']\n",
      "['12-2016', '8.53', '1.64']\n",
      "['11-2016', '7.00', '0.52']\n",
      "['10-2016', '7.16', '1.44']\n",
      "['09-2016', '7.28', '0.18']\n",
      "['08-2016', '8.05', '-0.29']\n",
      "['07-2016', '8.79', '1.16']\n",
      "['06-2016', '7.64', '0.47']\n",
      "['05-2016', '6.58', '0.58']\n",
      "['04-2016', '6.57', '0.78']\n",
      "['03-2016', '7.46', '-0.04']\n",
      "['02-2016', '8.78', '-0.02']\n",
      "['01-2016', '9.58', '1.82']\n",
      "['12-2015', '8.81', '0.21']\n",
      "['11-2015', '8.10', '0.67']\n",
      "['10-2015', '7.58', '1.55']\n",
      "['09-2015', '7.95', '0.89']\n",
      "['08-2015', '7.14', '0.40']\n",
      "['07-2015', '6.81', '0.09']\n",
      "['06-2015', '7.20', '-0.51']\n",
      "['05-2015', '8.09', '0.56']\n",
      "['04-2015', '7.91', '1.63']\n",
      "['03-2015', '7.61', '1.19']\n",
      "['02-2015', '7.55', '0.71']\n",
      "['01-2015', '7.24', '1.10']\n",
      "['12-2014', '8.17', '-0.44']\n",
      "['11-2014', '9.15', '0.18']\n",
      "['10-2014', '8.96', '1.90']\n",
      "['09-2014', '8.86', '0.14']\n",
      "['08-2014', '9.54', '0.09']\n",
      "['07-2014', '9.32', '0.45']\n",
      "['06-2014', '9.16', '0.31']\n",
      "['05-2014', '9.66', '0.4']\n",
      "['04-2014', '9.38', '1.34']\n",
      "['03-2014', '8.39', '1.13']\n",
      "['02-2014', '7.89', '0.43']\n",
      "['01-2014', '7.75', '1.98']\n",
      "['12-2013', '7.4', '0.46']\n",
      "['11-2013', '7.32', '0.01']\n",
      "['10-2013', '7.71', '1.8']\n",
      "['09-2013', '7.88', '0.77']\n",
      "['08-2013', '8.17', '-0.1']\n",
      "['07-2013', '8.88', '0.31']\n",
      "['06-2013', '8.3', '0.76']\n",
      "['05-2013', '6.51', '0.15']\n",
      "['04-2013', '6.13', '0.42']\n",
      "['03-2013', '7.29', '0.66']\n",
      "['02-2013', '7.03', '0.3']\n",
      "['01-2013', '7.31', '1.65']\n",
      "['12-2012', '6.16', '0.38']\n",
      "['11-2012', '6.37', '0.38']\n",
      "['10-2012', '7.8', '1.96']\n",
      "['09-2012', '9.19', '1.03']\n",
      "['08-2012', '8.88', '0.56']\n",
      "['07-2012', '9.07', '-0.23']\n",
      "['06-2012', '8.87', '-0.9']\n",
      "['05-2012', '8.28', '-0.21']\n",
      "['04-2012', '11.14', '1.52']\n",
      "['03-2012', '10.43', '0.41']\n",
      "['02-2012', '10.43', '0.56']\n",
      "['01-2012', '10.61', '0.56']\n",
      "['12-2011', '10.45', '0.58']\n",
      "['11-2011', '9.48', '1.73']\n",
      "['10-2011', '7.66', '3.27']\n",
      "['09-2011', '6.15', '0.75']\n",
      "['08-2011', '6.65', '0.73']\n",
      "['07-2011', '6.31', '-0.41']\n",
      "['06-2011', '6.24', '-1.43']\n",
      "['05-2011', '7.17', '2.42']\n",
      "['04-2011', '4.26', '0.87']\n",
      "['03-2011', '3.99', '0.42']\n",
      "['02-2011', '4.16', '0.73']\n",
      "['01-2011', '4.9', '0.41']\n",
      "['12-2010', '6.4', '-0.3']\n",
      "['11-2010', '7.29', '0.03']\n",
      "['10-2010', '8.62', '1.83']\n",
      "['09-2010', '9.24', '1.23']\n",
      "['08-2010', '8.33', '0.4']\n",
      "['07-2010', '7.58', '-0.48']\n",
      "['06-2010', '8.37', '-0.56']\n",
      "['05-2010', '9.1', '-0.36']\n",
      "['04-2010', '10.19', '0.6']\n",
      "['03-2010', '9.56', '0.58']\n",
      "['02-2010', '10.13', '1.45']\n",
      "['01-2010', '8.19', '1.85']\n",
      "['12-2009', '6.53', '0.53']\n",
      "['11-2009', '5.53', '1.27']\n",
      "['10-2009', '5.08', '2.41']\n",
      "['09-2009', '5.27', '0.39']\n",
      "['08-2009', '5.33', '-0.3']\n",
      "['07-2009', '5.39', '0.25']\n",
      "['06-2009', '5.73', '0.11']\n",
      "['05-2009', '5.24', '0.64']\n",
      "['04-2009', '6.13', '0.02']\n",
      "['03-2009', '7.89', '1.1']\n",
      "['02-2009', '7.73', '-0.34']\n",
      "['01-2009', '9.5', '0.29']\n",
      "['12-2008', '10.06', '-0.41']\n",
      "['11-2008', '10.76', '0.83']\n",
      "['10-2008', '11.99', '2.6']\n",
      "['09-2008', '11.13', '0.45']\n",
      "['08-2008', '11.77', '-0.24']\n",
      "['07-2008', '12.06', '0.58']\n",
      "['06-2008', '10.61', '-0.36']\n",
      "['05-2008', '10.74', '1.49']\n",
      "['04-2008', '9.66', '1.68']\n",
      "['03-2008', '9.15', '0.96']\n",
      "['02-2008', '9.1', '1.29']\n",
      "['01-2008', '8.17', '0.8']\n",
      "['12-2007', '8.39', '0.22']\n",
      "['11-2007', '8.4', '1.95']\n",
      "['10-2007', '7.7', '1.81']\n",
      "['09-2007', '7.12', '1.03']\n",
      "['08-2007', '7.39', '0.02']\n",
      "['07-2007', '6.9', '-0.73']\n",
      "['06-2007', '8.6', '-0.24']\n",
      "['05-2007', '9.23', '0.5']\n",
      "['04-2007', '10.72', '1.21']\n",
      "['03-2007', '10.86', '0.92']\n",
      "['02-2007', '10.16', '0.43']\n",
      "['01-2007', '9.93', '1']\n",
      "['12-2006', '9.65', '0.23']\n",
      "['11-2006', '9.86', '1.29']\n",
      "['10-2006', '9.98', '1.27']\n",
      "['09-2006', '10.55', '1.29']\n",
      "['08-2006', '10.26', '-0.44']\n",
      "['07-2006', '11.69', '0.85']\n",
      "['06-2006', '10.12', '0.34']\n",
      "['05-2006', '9.86', '1.88']\n",
      "['04-2006', '8.83', '1.34']\n",
      "['03-2006', '8.16', '0.27']\n",
      "['02-2006', '8.15', '0.22']\n",
      "['01-2006', '7.93', '0.75']\n",
      "['12-2005', '7.72', '0.42']\n",
      "['11-2005', '7.61', '1.4']\n",
      "['10-2005', '7.52', '1.79']\n",
      "['09-2005', '7.99', '1.02']\n",
      "['08-2005', '7.91', '0.85']\n",
      "['07-2005', '7.82', '-0.57']\n",
      "['06-2005', '8.95', '0.1']\n",
      "['05-2005', '8.7', '0.92']\n",
      "['04-2005', '8.18', '0.71']\n",
      "['03-2005', '7.94', '0.26']\n",
      "['02-2005', '8.69', '0.02']\n",
      "['01-2005', '9.24', '0.55']\n"
     ]
    }
   ],
   "source": [
    "rows = soup.findAll('tr')[1:]\n",
    "Inflation = [[td.getText() for td in rows[i].findAll('td')]\n",
    "            for i in range(len(rows))]\n",
    "\n",
    "\n",
    "for i in range(len(rows)):\n",
    "    print(Inflation[i])   "
   ]
  },
  {
   "cell_type": "code",
   "execution_count": 1200,
   "metadata": {},
   "outputs": [],
   "source": [
    "colum = ['Date','Yıllık_Değişim','Aylık_Değişim']\n",
    "inf = pd.DataFrame(Inflation, columns=colum)"
   ]
  },
  {
   "cell_type": "code",
   "execution_count": 1055,
   "metadata": {},
   "outputs": [
    {
     "data": {
      "text/html": [
       "<div>\n",
       "<style scoped>\n",
       "    .dataframe tbody tr th:only-of-type {\n",
       "        vertical-align: middle;\n",
       "    }\n",
       "\n",
       "    .dataframe tbody tr th {\n",
       "        vertical-align: top;\n",
       "    }\n",
       "\n",
       "    .dataframe thead th {\n",
       "        text-align: right;\n",
       "    }\n",
       "</style>\n",
       "<table border=\"1\" class=\"dataframe\">\n",
       "  <thead>\n",
       "    <tr style=\"text-align: right;\">\n",
       "      <th></th>\n",
       "      <th>Date</th>\n",
       "      <th>Yıllık_Değişim</th>\n",
       "      <th>Aylık_Değişim</th>\n",
       "    </tr>\n",
       "  </thead>\n",
       "  <tbody>\n",
       "    <tr>\n",
       "      <td>0</td>\n",
       "      <td>02-2020</td>\n",
       "      <td>12.37</td>\n",
       "      <td>0.35</td>\n",
       "    </tr>\n",
       "    <tr>\n",
       "      <td>1</td>\n",
       "      <td>01-2020</td>\n",
       "      <td>12.15</td>\n",
       "      <td>1.35</td>\n",
       "    </tr>\n",
       "    <tr>\n",
       "      <td>2</td>\n",
       "      <td>12-2019</td>\n",
       "      <td>11.84</td>\n",
       "      <td>0.74</td>\n",
       "    </tr>\n",
       "    <tr>\n",
       "      <td>3</td>\n",
       "      <td>11-2019</td>\n",
       "      <td>10.56</td>\n",
       "      <td>0.38</td>\n",
       "    </tr>\n",
       "    <tr>\n",
       "      <td>4</td>\n",
       "      <td>10-2019</td>\n",
       "      <td>8.55</td>\n",
       "      <td>2</td>\n",
       "    </tr>\n",
       "  </tbody>\n",
       "</table>\n",
       "</div>"
      ],
      "text/plain": [
       "      Date Yıllık_Değişim Aylık_Değişim\n",
       "0  02-2020          12.37          0.35\n",
       "1  01-2020          12.15          1.35\n",
       "2  12-2019          11.84          0.74\n",
       "3  11-2019          10.56          0.38\n",
       "4  10-2019           8.55             2"
      ]
     },
     "execution_count": 1055,
     "metadata": {},
     "output_type": "execute_result"
    }
   ],
   "source": [
    "inf.head()"
   ]
  },
  {
   "cell_type": "code",
   "execution_count": 1056,
   "metadata": {},
   "outputs": [
    {
     "name": "stdout",
     "output_type": "stream",
     "text": [
      "<class 'pandas.core.frame.DataFrame'>\n",
      "RangeIndex: 182 entries, 0 to 181\n",
      "Data columns (total 3 columns):\n",
      "Date              182 non-null object\n",
      "Yıllık_Değişim    182 non-null object\n",
      "Aylık_Değişim     182 non-null object\n",
      "dtypes: object(3)\n",
      "memory usage: 4.4+ KB\n"
     ]
    }
   ],
   "source": [
    "inf.info()"
   ]
  },
  {
   "cell_type": "code",
   "execution_count": 1057,
   "metadata": {},
   "outputs": [
    {
     "name": "stdout",
     "output_type": "stream",
     "text": [
      "<class 'pandas.core.frame.DataFrame'>\n",
      "RangeIndex: 250 entries, 0 to 249\n",
      "Data columns (total 16 columns):\n",
      "Tarih            230 non-null object\n",
      "TP EUR MT01 K    230 non-null float64\n",
      "TP EUR MT02 K    230 non-null float64\n",
      "TP EUR MT03 K    230 non-null float64\n",
      "TP EUR MT04 K    230 non-null float64\n",
      "TP EUR MT05 K    98 non-null float64\n",
      "TP TRY MT01 K    230 non-null float64\n",
      "TP TRY MT02 K    230 non-null float64\n",
      "TP TRY MT03 K    230 non-null float64\n",
      "TP TRY MT04 K    230 non-null float64\n",
      "TP TRY MT05 K    98 non-null float64\n",
      "TP USD MT01 K    230 non-null float64\n",
      "TP USD MT02 K    230 non-null float64\n",
      "TP USD MT03 K    230 non-null float64\n",
      "TP USD MT04 K    230 non-null float64\n",
      "TP USD MT05 K    98 non-null float64\n",
      "dtypes: float64(15), object(1)\n",
      "memory usage: 31.4+ KB\n"
     ]
    }
   ],
   "source": [
    "interest.info()"
   ]
  },
  {
   "cell_type": "markdown",
   "metadata": {},
   "source": [
    "### We have to fix the types of inflation columns. "
   ]
  },
  {
   "cell_type": "code",
   "execution_count": 1201,
   "metadata": {},
   "outputs": [],
   "source": [
    "inf['Aylık_Değişim']= inf['Aylık_Değişim'].astype(float)\n",
    "inf['Yıllık_Değişim']= inf['Yıllık_Değişim'].astype(float)\n",
    "inf['Date']=pd.to_datetime(inf['Date'])"
   ]
  },
  {
   "cell_type": "markdown",
   "metadata": {},
   "source": [
    "#### We will use the Date column to combine two sets of data, we also need to edit the names of the columns of the interest data set.\n"
   ]
  },
  {
   "cell_type": "code",
   "execution_count": 1202,
   "metadata": {},
   "outputs": [],
   "source": [
    "interest.rename(columns={'Tarih': 'Date'},inplace=True)\n",
    "interest['Date']=pd.to_datetime(interest['Date'])\n",
    "\n",
    "interest.rename(columns={'TP EUR MT01 K': 'TP_EUR_MT01_K'},inplace=True)\n",
    "interest.rename(columns={'TP EUR MT02 K': 'TP_EUR_MT02_K'},inplace=True)\n",
    "interest.rename(columns={'TP EUR MT03 K': 'TP_EUR_MT03_K'},inplace=True)\n",
    "interest.rename(columns={'TP EUR MT04 K': 'TP_EUR_MT04_K'},inplace=True)\n",
    "interest.rename(columns={'TP EUR MT05 K': 'TP_EUR_MT05_K'},inplace=True)\n",
    "interest.rename(columns={'TP TRY MT01 K': 'TP_TRY_MT01_K'},inplace=True)\n",
    "interest.rename(columns={'TP TRY MT02 K': 'TP_TRY_MT02_K'},inplace=True)\n",
    "interest.rename(columns={'TP TRY MT03 K': 'TP_TRY_MT03_K'},inplace=True)\n",
    "interest.rename(columns={'TP TRY MT04 K': 'TP_TRY_MT04_K'},inplace=True)\n",
    "interest.rename(columns={'TP TRY MT05 K': 'TP_TRY_MT05_K'},inplace=True)\n",
    "interest.rename(columns={'TP USD MT01 K': 'TP_USD_MT01_K'},inplace=True)\n",
    "interest.rename(columns={'TP USD MT02 K': 'TP_USD_MT02_K'},inplace=True)\n",
    "interest.rename(columns={'TP USD MT03 K': 'TP_USD_MT03_K'},inplace=True)\n",
    "interest.rename(columns={'TP USD MT04 K': 'TP_USD_MT04_K'},inplace=True)\n",
    "interest.rename(columns={'TP USD MT05 K': 'TP_USD_MT05_K'},inplace=True)"
   ]
  },
  {
   "cell_type": "code",
   "execution_count": 27,
   "metadata": {},
   "outputs": [],
   "source": [
    "#interest = interest.dropna(how='any')"
   ]
  },
  {
   "cell_type": "code",
   "execution_count": 1203,
   "metadata": {},
   "outputs": [
    {
     "name": "stdout",
     "output_type": "stream",
     "text": [
      "<class 'pandas.core.frame.DataFrame'>\n",
      "Int64Index: 181 entries, 0 to 180\n",
      "Data columns (total 18 columns):\n",
      "Date              181 non-null datetime64[ns]\n",
      "TP_EUR_MT01_K     181 non-null float64\n",
      "TP_EUR_MT02_K     181 non-null float64\n",
      "TP_EUR_MT03_K     181 non-null float64\n",
      "TP_EUR_MT04_K     181 non-null float64\n",
      "TP_EUR_MT05_K     98 non-null float64\n",
      "TP_TRY_MT01_K     181 non-null float64\n",
      "TP_TRY_MT02_K     181 non-null float64\n",
      "TP_TRY_MT03_K     181 non-null float64\n",
      "TP_TRY_MT04_K     181 non-null float64\n",
      "TP_TRY_MT05_K     98 non-null float64\n",
      "TP_USD_MT01_K     181 non-null float64\n",
      "TP_USD_MT02_K     181 non-null float64\n",
      "TP_USD_MT03_K     181 non-null float64\n",
      "TP_USD_MT04_K     181 non-null float64\n",
      "TP_USD_MT05_K     98 non-null float64\n",
      "Yıllık_Değişim    181 non-null float64\n",
      "Aylık_Değişim     181 non-null float64\n",
      "dtypes: datetime64[ns](1), float64(17)\n",
      "memory usage: 26.9 KB\n"
     ]
    }
   ],
   "source": [
    "interest = interest.merge(inf,on='Date')\n",
    "interest.info()"
   ]
  },
  {
   "cell_type": "code",
   "execution_count": 1061,
   "metadata": {},
   "outputs": [
    {
     "data": {
      "text/html": [
       "<div>\n",
       "<style scoped>\n",
       "    .dataframe tbody tr th:only-of-type {\n",
       "        vertical-align: middle;\n",
       "    }\n",
       "\n",
       "    .dataframe tbody tr th {\n",
       "        vertical-align: top;\n",
       "    }\n",
       "\n",
       "    .dataframe thead th {\n",
       "        text-align: right;\n",
       "    }\n",
       "</style>\n",
       "<table border=\"1\" class=\"dataframe\">\n",
       "  <thead>\n",
       "    <tr style=\"text-align: right;\">\n",
       "      <th></th>\n",
       "      <th>Date</th>\n",
       "      <th>TP_EUR_MT01_K</th>\n",
       "      <th>TP_EUR_MT02_K</th>\n",
       "      <th>TP_EUR_MT03_K</th>\n",
       "      <th>TP_EUR_MT04_K</th>\n",
       "      <th>TP_EUR_MT05_K</th>\n",
       "      <th>TP_TRY_MT01_K</th>\n",
       "      <th>TP_TRY_MT02_K</th>\n",
       "      <th>TP_TRY_MT03_K</th>\n",
       "      <th>TP_TRY_MT04_K</th>\n",
       "      <th>TP_TRY_MT05_K</th>\n",
       "      <th>TP_USD_MT01_K</th>\n",
       "      <th>TP_USD_MT02_K</th>\n",
       "      <th>TP_USD_MT03_K</th>\n",
       "      <th>TP_USD_MT04_K</th>\n",
       "      <th>TP_USD_MT05_K</th>\n",
       "      <th>Yıllık_Değişim</th>\n",
       "      <th>Aylık_Değişim</th>\n",
       "    </tr>\n",
       "  </thead>\n",
       "  <tbody>\n",
       "    <tr>\n",
       "      <td>178</td>\n",
       "      <td>2005-03-01</td>\n",
       "      <td>3.5</td>\n",
       "      <td>3.75</td>\n",
       "      <td>4.0</td>\n",
       "      <td>4.00</td>\n",
       "      <td>NaN</td>\n",
       "      <td>36.0</td>\n",
       "      <td>20.0</td>\n",
       "      <td>19.65</td>\n",
       "      <td>22.0</td>\n",
       "      <td>NaN</td>\n",
       "      <td>3.75</td>\n",
       "      <td>4.0</td>\n",
       "      <td>4.05</td>\n",
       "      <td>4.1</td>\n",
       "      <td>NaN</td>\n",
       "      <td>7.94</td>\n",
       "      <td>0.26</td>\n",
       "    </tr>\n",
       "    <tr>\n",
       "      <td>179</td>\n",
       "      <td>2005-02-01</td>\n",
       "      <td>3.6</td>\n",
       "      <td>4.25</td>\n",
       "      <td>4.0</td>\n",
       "      <td>4.25</td>\n",
       "      <td>NaN</td>\n",
       "      <td>20.5</td>\n",
       "      <td>20.5</td>\n",
       "      <td>20.50</td>\n",
       "      <td>24.0</td>\n",
       "      <td>NaN</td>\n",
       "      <td>3.76</td>\n",
       "      <td>4.0</td>\n",
       "      <td>3.75</td>\n",
       "      <td>4.0</td>\n",
       "      <td>NaN</td>\n",
       "      <td>8.69</td>\n",
       "      <td>0.02</td>\n",
       "    </tr>\n",
       "    <tr>\n",
       "      <td>180</td>\n",
       "      <td>2005-01-01</td>\n",
       "      <td>3.5</td>\n",
       "      <td>4.00</td>\n",
       "      <td>4.0</td>\n",
       "      <td>4.25</td>\n",
       "      <td>NaN</td>\n",
       "      <td>22.0</td>\n",
       "      <td>23.0</td>\n",
       "      <td>22.00</td>\n",
       "      <td>24.0</td>\n",
       "      <td>NaN</td>\n",
       "      <td>3.75</td>\n",
       "      <td>4.0</td>\n",
       "      <td>4.00</td>\n",
       "      <td>4.0</td>\n",
       "      <td>NaN</td>\n",
       "      <td>9.24</td>\n",
       "      <td>0.55</td>\n",
       "    </tr>\n",
       "  </tbody>\n",
       "</table>\n",
       "</div>"
      ],
      "text/plain": [
       "          Date  TP_EUR_MT01_K  TP_EUR_MT02_K  TP_EUR_MT03_K  TP_EUR_MT04_K  \\\n",
       "178 2005-03-01            3.5           3.75            4.0           4.00   \n",
       "179 2005-02-01            3.6           4.25            4.0           4.25   \n",
       "180 2005-01-01            3.5           4.00            4.0           4.25   \n",
       "\n",
       "     TP_EUR_MT05_K  TP_TRY_MT01_K  TP_TRY_MT02_K  TP_TRY_MT03_K  \\\n",
       "178            NaN           36.0           20.0          19.65   \n",
       "179            NaN           20.5           20.5          20.50   \n",
       "180            NaN           22.0           23.0          22.00   \n",
       "\n",
       "     TP_TRY_MT04_K  TP_TRY_MT05_K  TP_USD_MT01_K  TP_USD_MT02_K  \\\n",
       "178           22.0            NaN           3.75            4.0   \n",
       "179           24.0            NaN           3.76            4.0   \n",
       "180           24.0            NaN           3.75            4.0   \n",
       "\n",
       "     TP_USD_MT03_K  TP_USD_MT04_K  TP_USD_MT05_K  Yıllık_Değişim  \\\n",
       "178           4.05            4.1            NaN            7.94   \n",
       "179           3.75            4.0            NaN            8.69   \n",
       "180           4.00            4.0            NaN            9.24   \n",
       "\n",
       "     Aylık_Değişim  \n",
       "178           0.26  \n",
       "179           0.02  \n",
       "180           0.55  "
      ]
     },
     "execution_count": 1061,
     "metadata": {},
     "output_type": "execute_result"
    }
   ],
   "source": [
    "interest.tail(3)"
   ]
  },
  {
   "cell_type": "markdown",
   "metadata": {},
   "source": [
    "### Let's analyze the data a little\n",
    "\n",
    "Let's look at public banks interest rates for 3 different currencies since 2019."
   ]
  },
  {
   "cell_type": "code",
   "execution_count": 1062,
   "metadata": {},
   "outputs": [
    {
     "data": {
      "text/plain": [
       "<matplotlib.axes._subplots.AxesSubplot at 0x1fb579cd508>"
      ]
     },
     "execution_count": 1062,
     "metadata": {},
     "output_type": "execute_result"
    },
    {
     "data": {
      "image/png": "[encoded data removed]",
      "text/plain": [
       "<Figure size 576x576 with 1 Axes>"
      ]
     },
     "metadata": {},
     "output_type": "display_data"
    }
   ],
   "source": [
    "res = interest[(interest.Date > '2019-01-01')].groupby('Date').max()[['TP_EUR_MT01_K','TP_TRY_MT01_K','TP_USD_MT01_K']]\n",
    "\n",
    "sns.set(style=\"whitegrid\")\n",
    "plt.figure(figsize=(8,8))\n",
    "sns.lineplot(data=res, palette=\"tab10\", linewidth=2.5)\n"
   ]
  },
  {
   "cell_type": "markdown",
   "metadata": {},
   "source": [
    "#### Inflation rate is higher than 20%"
   ]
  },
  {
   "cell_type": "code",
   "execution_count": 1008,
   "metadata": {},
   "outputs": [
    {
     "data": {
      "text/html": [
       "<div>\n",
       "<style scoped>\n",
       "    .dataframe tbody tr th:only-of-type {\n",
       "        vertical-align: middle;\n",
       "    }\n",
       "\n",
       "    .dataframe tbody tr th {\n",
       "        vertical-align: top;\n",
       "    }\n",
       "\n",
       "    .dataframe thead th {\n",
       "        text-align: right;\n",
       "    }\n",
       "</style>\n",
       "<table border=\"1\" class=\"dataframe\">\n",
       "  <thead>\n",
       "    <tr style=\"text-align: right;\">\n",
       "      <th></th>\n",
       "      <th>Date</th>\n",
       "      <th>TP_EUR_MT01_K</th>\n",
       "      <th>TP_TRY_MT05_K</th>\n",
       "      <th>Yıllık_Değişim</th>\n",
       "    </tr>\n",
       "  </thead>\n",
       "  <tbody>\n",
       "    <tr>\n",
       "      <td>12</td>\n",
       "      <td>2019-01-01</td>\n",
       "      <td>3.50</td>\n",
       "      <td>23.25</td>\n",
       "      <td>20.35</td>\n",
       "    </tr>\n",
       "    <tr>\n",
       "      <td>13</td>\n",
       "      <td>2018-12-01</td>\n",
       "      <td>4.00</td>\n",
       "      <td>28.00</td>\n",
       "      <td>20.30</td>\n",
       "    </tr>\n",
       "    <tr>\n",
       "      <td>14</td>\n",
       "      <td>2018-11-01</td>\n",
       "      <td>4.00</td>\n",
       "      <td>28.00</td>\n",
       "      <td>21.62</td>\n",
       "    </tr>\n",
       "    <tr>\n",
       "      <td>15</td>\n",
       "      <td>2018-10-01</td>\n",
       "      <td>4.50</td>\n",
       "      <td>28.00</td>\n",
       "      <td>25.24</td>\n",
       "    </tr>\n",
       "    <tr>\n",
       "      <td>16</td>\n",
       "      <td>2018-09-01</td>\n",
       "      <td>5.75</td>\n",
       "      <td>28.75</td>\n",
       "      <td>24.52</td>\n",
       "    </tr>\n",
       "  </tbody>\n",
       "</table>\n",
       "</div>"
      ],
      "text/plain": [
       "         Date  TP_EUR_MT01_K  TP_TRY_MT05_K  Yıllık_Değişim\n",
       "12 2019-01-01           3.50          23.25           20.35\n",
       "13 2018-12-01           4.00          28.00           20.30\n",
       "14 2018-11-01           4.00          28.00           21.62\n",
       "15 2018-10-01           4.50          28.00           25.24\n",
       "16 2018-09-01           5.75          28.75           24.52"
      ]
     },
     "execution_count": 1008,
     "metadata": {},
     "output_type": "execute_result"
    }
   ],
   "source": [
    "interest[(interest.Yıllık_Değişim>20)][['Date','TP_EUR_MT01_K','TP_TRY_MT05_K','Yıllık_Değişim']]"
   ]
  },
  {
   "cell_type": "markdown",
   "metadata": {},
   "source": [
    "### There is a conclusion that we can draw from this data, interest rates also seem to be high during periods of high inflation.\n",
    "We can use this relationship when developing our ML model in the later stages."
   ]
  },
  {
   "cell_type": "markdown",
   "metadata": {},
   "source": [
    "## Is there a similarities between the Turkish lira interest rate and other currencies?\n",
    "    Does the rate of interest in one affect the other?"
   ]
  },
  {
   "cell_type": "code",
   "execution_count": 1009,
   "metadata": {},
   "outputs": [
    {
     "data": {
      "text/html": [
       "<div>\n",
       "<style scoped>\n",
       "    .dataframe tbody tr th:only-of-type {\n",
       "        vertical-align: middle;\n",
       "    }\n",
       "\n",
       "    .dataframe tbody tr th {\n",
       "        vertical-align: top;\n",
       "    }\n",
       "\n",
       "    .dataframe thead th {\n",
       "        text-align: right;\n",
       "    }\n",
       "</style>\n",
       "<table border=\"1\" class=\"dataframe\">\n",
       "  <thead>\n",
       "    <tr style=\"text-align: right;\">\n",
       "      <th></th>\n",
       "      <th>Date</th>\n",
       "      <th>TP_EUR_MT01_K</th>\n",
       "      <th>TP_EUR_MT02_K</th>\n",
       "      <th>TP_TRY_MT01_K</th>\n",
       "      <th>TP_USD_MT01_K</th>\n",
       "    </tr>\n",
       "  </thead>\n",
       "  <tbody>\n",
       "    <tr>\n",
       "      <td>134</td>\n",
       "      <td>2008-11-01</td>\n",
       "      <td>7.90</td>\n",
       "      <td>7.85</td>\n",
       "      <td>23.90</td>\n",
       "      <td>8.00</td>\n",
       "    </tr>\n",
       "    <tr>\n",
       "      <td>133</td>\n",
       "      <td>2008-12-01</td>\n",
       "      <td>7.75</td>\n",
       "      <td>7.75</td>\n",
       "      <td>23.15</td>\n",
       "      <td>8.00</td>\n",
       "    </tr>\n",
       "    <tr>\n",
       "      <td>132</td>\n",
       "      <td>2009-01-01</td>\n",
       "      <td>7.75</td>\n",
       "      <td>7.50</td>\n",
       "      <td>20.75</td>\n",
       "      <td>7.50</td>\n",
       "    </tr>\n",
       "    <tr>\n",
       "      <td>135</td>\n",
       "      <td>2008-10-01</td>\n",
       "      <td>7.50</td>\n",
       "      <td>8.05</td>\n",
       "      <td>22.35</td>\n",
       "      <td>8.00</td>\n",
       "    </tr>\n",
       "    <tr>\n",
       "      <td>136</td>\n",
       "      <td>2008-09-01</td>\n",
       "      <td>7.25</td>\n",
       "      <td>7.10</td>\n",
       "      <td>20.60</td>\n",
       "      <td>7.00</td>\n",
       "    </tr>\n",
       "    <tr>\n",
       "      <td>...</td>\n",
       "      <td>...</td>\n",
       "      <td>...</td>\n",
       "      <td>...</td>\n",
       "      <td>...</td>\n",
       "      <td>...</td>\n",
       "    </tr>\n",
       "    <tr>\n",
       "      <td>4</td>\n",
       "      <td>2019-09-01</td>\n",
       "      <td>1.40</td>\n",
       "      <td>1.20</td>\n",
       "      <td>22.50</td>\n",
       "      <td>3.60</td>\n",
       "    </tr>\n",
       "    <tr>\n",
       "      <td>3</td>\n",
       "      <td>2019-10-01</td>\n",
       "      <td>1.40</td>\n",
       "      <td>1.00</td>\n",
       "      <td>22.50</td>\n",
       "      <td>3.60</td>\n",
       "    </tr>\n",
       "    <tr>\n",
       "      <td>2</td>\n",
       "      <td>2019-11-01</td>\n",
       "      <td>1.00</td>\n",
       "      <td>0.95</td>\n",
       "      <td>19.50</td>\n",
       "      <td>3.25</td>\n",
       "    </tr>\n",
       "    <tr>\n",
       "      <td>1</td>\n",
       "      <td>2019-12-01</td>\n",
       "      <td>0.75</td>\n",
       "      <td>0.95</td>\n",
       "      <td>18.25</td>\n",
       "      <td>2.75</td>\n",
       "    </tr>\n",
       "    <tr>\n",
       "      <td>0</td>\n",
       "      <td>2020-01-01</td>\n",
       "      <td>0.40</td>\n",
       "      <td>0.60</td>\n",
       "      <td>13.00</td>\n",
       "      <td>2.30</td>\n",
       "    </tr>\n",
       "  </tbody>\n",
       "</table>\n",
       "<p>181 rows × 5 columns</p>\n",
       "</div>"
      ],
      "text/plain": [
       "          Date  TP_EUR_MT01_K  TP_EUR_MT02_K  TP_TRY_MT01_K  TP_USD_MT01_K\n",
       "134 2008-11-01           7.90           7.85          23.90           8.00\n",
       "133 2008-12-01           7.75           7.75          23.15           8.00\n",
       "132 2009-01-01           7.75           7.50          20.75           7.50\n",
       "135 2008-10-01           7.50           8.05          22.35           8.00\n",
       "136 2008-09-01           7.25           7.10          20.60           7.00\n",
       "..         ...            ...            ...            ...            ...\n",
       "4   2019-09-01           1.40           1.20          22.50           3.60\n",
       "3   2019-10-01           1.40           1.00          22.50           3.60\n",
       "2   2019-11-01           1.00           0.95          19.50           3.25\n",
       "1   2019-12-01           0.75           0.95          18.25           2.75\n",
       "0   2020-01-01           0.40           0.60          13.00           2.30\n",
       "\n",
       "[181 rows x 5 columns]"
      ]
     },
     "execution_count": 1009,
     "metadata": {},
     "output_type": "execute_result"
    }
   ],
   "source": [
    "interest[['Date','TP_EUR_MT01_K','TP_EUR_MT02_K','TP_TRY_MT01_K','TP_USD_MT01_K']].sort_values(by='TP_EUR_MT01_K',ascending=False)"
   ]
  },
  {
   "cell_type": "code",
   "execution_count": 1263,
   "metadata": {},
   "outputs": [
    {
     "data": {
      "text/html": [
       "<div>\n",
       "<style scoped>\n",
       "    .dataframe tbody tr th:only-of-type {\n",
       "        vertical-align: middle;\n",
       "    }\n",
       "\n",
       "    .dataframe tbody tr th {\n",
       "        vertical-align: top;\n",
       "    }\n",
       "\n",
       "    .dataframe thead th {\n",
       "        text-align: right;\n",
       "    }\n",
       "</style>\n",
       "<table border=\"1\" class=\"dataframe\">\n",
       "  <thead>\n",
       "    <tr style=\"text-align: right;\">\n",
       "      <th></th>\n",
       "      <th>Date</th>\n",
       "      <th>TP_TRY_MT05_K</th>\n",
       "      <th>TP_USD_MT05_K</th>\n",
       "      <th>Yıllık_Değişim</th>\n",
       "    </tr>\n",
       "  </thead>\n",
       "  <tbody>\n",
       "    <tr>\n",
       "      <td>180</td>\n",
       "      <td>2005-01-01</td>\n",
       "      <td>NaN</td>\n",
       "      <td>1.972806</td>\n",
       "      <td>9.24</td>\n",
       "    </tr>\n",
       "    <tr>\n",
       "      <td>179</td>\n",
       "      <td>2005-02-01</td>\n",
       "      <td>NaN</td>\n",
       "      <td>1.972806</td>\n",
       "      <td>8.69</td>\n",
       "    </tr>\n",
       "    <tr>\n",
       "      <td>178</td>\n",
       "      <td>2005-03-01</td>\n",
       "      <td>NaN</td>\n",
       "      <td>1.972806</td>\n",
       "      <td>7.94</td>\n",
       "    </tr>\n",
       "    <tr>\n",
       "      <td>177</td>\n",
       "      <td>2005-04-01</td>\n",
       "      <td>NaN</td>\n",
       "      <td>1.972806</td>\n",
       "      <td>8.18</td>\n",
       "    </tr>\n",
       "    <tr>\n",
       "      <td>176</td>\n",
       "      <td>2005-05-01</td>\n",
       "      <td>NaN</td>\n",
       "      <td>1.972806</td>\n",
       "      <td>8.70</td>\n",
       "    </tr>\n",
       "    <tr>\n",
       "      <td>...</td>\n",
       "      <td>...</td>\n",
       "      <td>...</td>\n",
       "      <td>...</td>\n",
       "      <td>...</td>\n",
       "    </tr>\n",
       "    <tr>\n",
       "      <td>4</td>\n",
       "      <td>2019-09-01</td>\n",
       "      <td>15.85</td>\n",
       "      <td>3.250000</td>\n",
       "      <td>9.26</td>\n",
       "    </tr>\n",
       "    <tr>\n",
       "      <td>3</td>\n",
       "      <td>2019-10-01</td>\n",
       "      <td>14.10</td>\n",
       "      <td>3.100000</td>\n",
       "      <td>8.55</td>\n",
       "    </tr>\n",
       "    <tr>\n",
       "      <td>2</td>\n",
       "      <td>2019-11-01</td>\n",
       "      <td>12.60</td>\n",
       "      <td>2.750000</td>\n",
       "      <td>10.56</td>\n",
       "    </tr>\n",
       "    <tr>\n",
       "      <td>1</td>\n",
       "      <td>2019-12-01</td>\n",
       "      <td>11.60</td>\n",
       "      <td>2.500000</td>\n",
       "      <td>11.84</td>\n",
       "    </tr>\n",
       "    <tr>\n",
       "      <td>0</td>\n",
       "      <td>2020-01-01</td>\n",
       "      <td>10.50</td>\n",
       "      <td>2.500000</td>\n",
       "      <td>12.15</td>\n",
       "    </tr>\n",
       "  </tbody>\n",
       "</table>\n",
       "<p>181 rows × 4 columns</p>\n",
       "</div>"
      ],
      "text/plain": [
       "          Date  TP_TRY_MT05_K  TP_USD_MT05_K  Yıllık_Değişim\n",
       "180 2005-01-01            NaN       1.972806            9.24\n",
       "179 2005-02-01            NaN       1.972806            8.69\n",
       "178 2005-03-01            NaN       1.972806            7.94\n",
       "177 2005-04-01            NaN       1.972806            8.18\n",
       "176 2005-05-01            NaN       1.972806            8.70\n",
       "..         ...            ...            ...             ...\n",
       "4   2019-09-01          15.85       3.250000            9.26\n",
       "3   2019-10-01          14.10       3.100000            8.55\n",
       "2   2019-11-01          12.60       2.750000           10.56\n",
       "1   2019-12-01          11.60       2.500000           11.84\n",
       "0   2020-01-01          10.50       2.500000           12.15\n",
       "\n",
       "[181 rows x 4 columns]"
      ]
     },
     "execution_count": 1263,
     "metadata": {},
     "output_type": "execute_result"
    }
   ],
   "source": [
    "interest[['Date','TP_TRY_MT05_K','TP_USD_MT05_K','Yıllık_Değişim']].sort_values(by='Date',ascending=True)"
   ]
  },
  {
   "cell_type": "markdown",
   "metadata": {},
   "source": [
    "### Let's look at the corolation values ​​between the columns."
   ]
  },
  {
   "cell_type": "code",
   "execution_count": 1181,
   "metadata": {},
   "outputs": [
    {
     "data": {
      "text/plain": [
       "Yıllık_Değişim    1.000000\n",
       "TP_TRY_MT05_K     0.935510\n",
       "TP_TRY_MT02_K     0.665635\n",
       "TP_TRY_MT03_K     0.647833\n",
       "TP_TRY_MT01_K     0.646813\n",
       "TP_TRY_MT04_K     0.640902\n",
       "TP_USD_MT05_K     0.551534\n",
       "TP_USD_MT03_K     0.345378\n",
       "TP_USD_MT04_K     0.324247\n",
       "TP_USD_MT02_K     0.291467\n",
       "Aylık_Değişim     0.273346\n",
       "TP_USD_MT01_K     0.265490\n",
       "TP_EUR_MT01_K    -0.042536\n",
       "TP_EUR_MT02_K    -0.063572\n",
       "TP_EUR_MT03_K    -0.179917\n",
       "TP_EUR_MT05_K    -0.231086\n",
       "TP_EUR_MT04_K    -0.254013\n",
       "Name: Yıllık_Değişim, dtype: float64"
      ]
     },
     "execution_count": 1181,
     "metadata": {},
     "output_type": "execute_result"
    }
   ],
   "source": [
    "interest.corr()['Yıllık_Değişim'].sort_values(ascending=False)"
   ]
  },
  {
   "cell_type": "code",
   "execution_count": 1012,
   "metadata": {},
   "outputs": [
    {
     "data": {
      "text/plain": [
       "<matplotlib.axes._subplots.AxesSubplot at 0x1fb5778b548>"
      ]
     },
     "execution_count": 1012,
     "metadata": {},
     "output_type": "execute_result"
    },
    {
     "data": {
      "image/png": "[encoded data removed]",
      "text/plain": [
       "<Figure size 720x720 with 2 Axes>"
      ]
     },
     "metadata": {},
     "output_type": "display_data"
    }
   ],
   "source": [
    "plt.figure(figsize=(10,10))\n",
    "sns.heatmap(interest.corr(), cmap=\"YlGnBu\", annot = True)"
   ]
  },
  {
   "cell_type": "code",
   "execution_count": 896,
   "metadata": {},
   "outputs": [
    {
     "data": {
      "image/png": "[encoded data removed]",
      "text/plain": [
       "<Figure size 432x288 with 1 Axes>"
      ]
     },
     "metadata": {},
     "output_type": "display_data"
    }
   ],
   "source": [
    "sns.regplot(x=\"TP_TRY_MT05_K\", y=\"Yıllık_Değişim\", data=interest);"
   ]
  },
  {
   "cell_type": "markdown",
   "metadata": {},
   "source": [
    "#### Let's apply a small process for columns with NaN values."
   ]
  },
  {
   "cell_type": "code",
   "execution_count": 819,
   "metadata": {},
   "outputs": [],
   "source": [
    "tr = np.mean((interest.TP_TRY_MT05_K))\n",
    "euro = round(interest.TP_EUR_MT01_K)\n",
    "yıl = np.mean(interest.Yıllık_Değişim)\n",
    "usd = np.mean((interest.TP_USD_MT05_K)/2)\n",
    "yıl = np.mean(interest.Yıllık_Değişim)\n",
    "#tr = round(tr,2)\n",
    "#tr\n",
    "#usd = round(usd,2)\n",
    "interest.TP_USD_MT05_K.fillna(usd,inplace=True)\n",
    "#interest.TP_TRY_MT05_K.fillna(tr,inplace=True)"
   ]
  },
  {
   "cell_type": "markdown",
   "metadata": {},
   "source": [
    "Let's put it into an ML model in the simplest way, without making any changes on the columns."
   ]
  },
  {
   "cell_type": "code",
   "execution_count": 1205,
   "metadata": {},
   "outputs": [],
   "source": [
    "import statsmodels.api as sm\n",
    "from sklearn.linear_model import LinearRegression\n",
    "import patsy"
   ]
  },
  {
   "cell_type": "code",
   "execution_count": 1206,
   "metadata": {},
   "outputs": [
    {
     "data": {
      "text/html": [
       "<table class=\"simpletable\">\n",
       "<caption>OLS Regression Results</caption>\n",
       "<tr>\n",
       "  <th>Dep. Variable:</th>     <td>Yıllık_Değişim</td>  <th>  R-squared:         </th> <td>   0.892</td>\n",
       "</tr>\n",
       "<tr>\n",
       "  <th>Model:</th>                   <td>OLS</td>       <th>  Adj. R-squared:    </th> <td>   0.887</td>\n",
       "</tr>\n",
       "<tr>\n",
       "  <th>Method:</th>             <td>Least Squares</td>  <th>  F-statistic:       </th> <td>   152.7</td>\n",
       "</tr>\n",
       "<tr>\n",
       "  <th>Date:</th>             <td>Wed, 18 Mar 2020</td> <th>  Prob (F-statistic):</th> <td>5.81e-43</td>\n",
       "</tr>\n",
       "<tr>\n",
       "  <th>Time:</th>                 <td>11:26:18</td>     <th>  Log-Likelihood:    </th> <td> -168.97</td>\n",
       "</tr>\n",
       "<tr>\n",
       "  <th>No. Observations:</th>      <td>    98</td>      <th>  AIC:               </th> <td>   349.9</td>\n",
       "</tr>\n",
       "<tr>\n",
       "  <th>Df Residuals:</th>          <td>    92</td>      <th>  BIC:               </th> <td>   365.4</td>\n",
       "</tr>\n",
       "<tr>\n",
       "  <th>Df Model:</th>              <td>     5</td>      <th>                     </th>     <td> </td>   \n",
       "</tr>\n",
       "<tr>\n",
       "  <th>Covariance Type:</th>      <td>nonrobust</td>    <th>                     </th>     <td> </td>   \n",
       "</tr>\n",
       "</table>\n",
       "<table class=\"simpletable\">\n",
       "<tr>\n",
       "        <td></td>           <th>coef</th>     <th>std err</th>      <th>t</th>      <th>P>|t|</th>  <th>[0.025</th>    <th>0.975]</th>  \n",
       "</tr>\n",
       "<tr>\n",
       "  <th>Intercept</th>     <td>   -2.3428</td> <td>    0.563</td> <td>   -4.164</td> <td> 0.000</td> <td>   -3.460</td> <td>   -1.225</td>\n",
       "</tr>\n",
       "<tr>\n",
       "  <th>TP_TRY_MT05_K</th> <td>    0.4249</td> <td>    0.162</td> <td>    2.628</td> <td> 0.010</td> <td>    0.104</td> <td>    0.746</td>\n",
       "</tr>\n",
       "<tr>\n",
       "  <th>TP_TRY_MT02_K</th> <td>    0.1752</td> <td>    0.061</td> <td>    2.851</td> <td> 0.005</td> <td>    0.053</td> <td>    0.297</td>\n",
       "</tr>\n",
       "<tr>\n",
       "  <th>TP_TRY_MT03_K</th> <td>    0.0374</td> <td>    0.186</td> <td>    0.200</td> <td> 0.842</td> <td>   -0.333</td> <td>    0.408</td>\n",
       "</tr>\n",
       "<tr>\n",
       "  <th>TP_TRY_MT01_K</th> <td>    0.1057</td> <td>    0.084</td> <td>    1.257</td> <td> 0.212</td> <td>   -0.061</td> <td>    0.273</td>\n",
       "</tr>\n",
       "<tr>\n",
       "  <th>TP_TRY_MT04_K</th> <td>    0.1453</td> <td>    0.191</td> <td>    0.759</td> <td> 0.450</td> <td>   -0.235</td> <td>    0.526</td>\n",
       "</tr>\n",
       "</table>\n",
       "<table class=\"simpletable\">\n",
       "<tr>\n",
       "  <th>Omnibus:</th>       <td> 6.024</td> <th>  Durbin-Watson:     </th> <td>   0.741</td>\n",
       "</tr>\n",
       "<tr>\n",
       "  <th>Prob(Omnibus):</th> <td> 0.049</td> <th>  Jarque-Bera (JB):  </th> <td>   8.445</td>\n",
       "</tr>\n",
       "<tr>\n",
       "  <th>Skew:</th>          <td> 0.201</td> <th>  Prob(JB):          </th> <td>  0.0147</td>\n",
       "</tr>\n",
       "<tr>\n",
       "  <th>Kurtosis:</th>      <td> 4.381</td> <th>  Cond. No.          </th> <td>    136.</td>\n",
       "</tr>\n",
       "</table><br/><br/>Warnings:<br/>[1] Standard Errors assume that the covariance matrix of the errors is correctly specified."
      ],
      "text/plain": [
       "<class 'statsmodels.iolib.summary.Summary'>\n",
       "\"\"\"\n",
       "                            OLS Regression Results                            \n",
       "==============================================================================\n",
       "Dep. Variable:         Yıllık_Değişim   R-squared:                       0.892\n",
       "Model:                            OLS   Adj. R-squared:                  0.887\n",
       "Method:                 Least Squares   F-statistic:                     152.7\n",
       "Date:                Wed, 18 Mar 2020   Prob (F-statistic):           5.81e-43\n",
       "Time:                        11:26:18   Log-Likelihood:                -168.97\n",
       "No. Observations:                  98   AIC:                             349.9\n",
       "Df Residuals:                      92   BIC:                             365.4\n",
       "Df Model:                           5                                         \n",
       "Covariance Type:            nonrobust                                         \n",
       "=================================================================================\n",
       "                    coef    std err          t      P>|t|      [0.025      0.975]\n",
       "---------------------------------------------------------------------------------\n",
       "Intercept        -2.3428      0.563     -4.164      0.000      -3.460      -1.225\n",
       "TP_TRY_MT05_K     0.4249      0.162      2.628      0.010       0.104       0.746\n",
       "TP_TRY_MT02_K     0.1752      0.061      2.851      0.005       0.053       0.297\n",
       "TP_TRY_MT03_K     0.0374      0.186      0.200      0.842      -0.333       0.408\n",
       "TP_TRY_MT01_K     0.1057      0.084      1.257      0.212      -0.061       0.273\n",
       "TP_TRY_MT04_K     0.1453      0.191      0.759      0.450      -0.235       0.526\n",
       "==============================================================================\n",
       "Omnibus:                        6.024   Durbin-Watson:                   0.741\n",
       "Prob(Omnibus):                  0.049   Jarque-Bera (JB):                8.445\n",
       "Skew:                           0.201   Prob(JB):                       0.0147\n",
       "Kurtosis:                       4.381   Cond. No.                         136.\n",
       "==============================================================================\n",
       "\n",
       "Warnings:\n",
       "[1] Standard Errors assume that the covariance matrix of the errors is correctly specified.\n",
       "\"\"\""
      ]
     },
     "execution_count": 1206,
     "metadata": {},
     "output_type": "execute_result"
    }
   ],
   "source": [
    "y,x = patsy.dmatrices('Yıllık_Değişim ~ TP_TRY_MT05_K + TP_TRY_MT02_K + TP_TRY_MT03_K + TP_TRY_MT01_K + TP_TRY_MT04_K'  ,data=interest, return_type=\"dataframe\")\n",
    "\n",
    "ml = sm.OLS(y,x)\n",
    "model = ml.fit()\n",
    "model.summary()"
   ]
  },
  {
   "cell_type": "markdown",
   "metadata": {},
   "source": [
    "Also we can do with sklearn"
   ]
  },
  {
   "cell_type": "code",
   "execution_count": 1207,
   "metadata": {},
   "outputs": [
    {
     "data": {
      "text/plain": [
       "0.8924804508713866"
      ]
     },
     "execution_count": 1207,
     "metadata": {},
     "output_type": "execute_result"
    }
   ],
   "source": [
    "ml_2 = LinearRegression()\n",
    "model_2 = ml_2.fit(x,y)\n",
    "model_2.score(x,y)"
   ]
  },
  {
   "cell_type": "markdown",
   "metadata": {},
   "source": [
    "### Oh, not bad for the first time. This model can definitely develop more!\n",
    "### This ML model is very, very simple, because we train and test all the data. This is a process we will not do most of the time.\n",
    "    The following should be considered, we put all columns on ML and did not apply validation, CV or regularization"
   ]
  },
  {
   "cell_type": "markdown",
   "metadata": {},
   "source": [
    "### From this stage on, we will work to improve the model and increase the r^2 score value."
   ]
  },
  {
   "cell_type": "code",
   "execution_count": 1208,
   "metadata": {},
   "outputs": [
    {
     "name": "stdout",
     "output_type": "stream",
     "text": [
      "Model r^2 : 0.849929625852405\n",
      "MSE :  Yıllık_Değişim    1.849944\n",
      "dtype: float64\n"
     ]
    }
   ],
   "source": [
    "# As a result of the corr () above, we have seen that the EURO columns are ineffective. \n",
    "# Let's repeat our model without including these columns\n",
    "# I use from sklearn.model_selection import train_test_split library for train and test some of the data\n",
    "\n",
    "from sklearn.model_selection import train_test_split\n",
    "from pandas import Series, DataFrame\n",
    "\n",
    "y1 ,x1 = patsy.dmatrices('Yıllık_Değişim ~ TP_TRY_MT05_K + TP_TRY_MT02_K + TP_TRY_MT03_K + TP_TRY_MT01_K + TP_TRY_MT04_K' ,data=interest, return_type=\"dataframe\")\n",
    "\n",
    "\n",
    "x_train , x_test, y_train, y_test = train_test_split(x1,y1, test_size=.2, random_state=10)\n",
    "\n",
    "model_ = LinearRegression()\n",
    "\n",
    "model_.fit(x_train,y_train)\n",
    "\n",
    "pred_ = model_.predict(x_test)\n",
    "mins = np.mean((pred_ - y_test)**2)\n",
    "\n",
    "print('Model r^2 :' ,model_.score(x_test,y_test))\n",
    "print('MSE : ' , mins)\n",
    "\n",
    "#model_.coef_\n",
    "\n"
   ]
  },
  {
   "cell_type": "markdown",
   "metadata": {},
   "source": [
    "Trying different linear models can increase the value of r'2. Which model is better, we need to find out."
   ]
  },
  {
   "cell_type": "code",
   "execution_count": 1209,
   "metadata": {},
   "outputs": [
    {
     "name": "stdout",
     "output_type": "stream",
     "text": [
      "Linear Regression val R^2: 0.898\n",
      "Alpha=5 Ridge Regression val R^2: 0.894\n",
      "Degree 1 polynomial regression val R^2: 0.898\n",
      "Lasso Regression R^2 :  0.8964253938452634\n"
     ]
    }
   ],
   "source": [
    "# Let's import the necessary modules for Ridge and polynomial regression.\n",
    "from sklearn.linear_model import LinearRegression, Ridge, Lasso\n",
    "from sklearn.preprocessing import StandardScaler, PolynomialFeatures\n",
    "from sklearn.linear_model import Lasso\n",
    "\n",
    "X_train_val, X_test_val, y_train_val, y_test_val = train_test_split(x_train, y_train, test_size=.25, random_state=10)\n",
    "\n",
    "# Lineer Regression # \n",
    "\n",
    "lineer_model = LinearRegression()\n",
    "lineer_model.fit(X_train_val,y_train_val)\n",
    "# ----------------- #\n",
    "\n",
    "# Ridge Regression #\n",
    "ridge = StandardScaler()\n",
    "\n",
    "X_train_scaled   = ridge.fit_transform(X_train_val.values)\n",
    "X_val_scaled     = ridge.transform(X_test_val.values)\n",
    "X_test_scaled    = ridge.transform(x_test.values)\n",
    "\n",
    "ridge_model = Ridge(alpha=5)\n",
    "ridge_model.fit(X_train_scaled,y_train_val)\n",
    "# ------------------ #\n",
    "\n",
    "# Lasso Regression #\n",
    "las = StandardScaler()\n",
    "\n",
    "X_train_las_scaled   = las.fit_transform(X_train_val.values)\n",
    "X_val_las_scaled     = las.transform(X_test_val.values)\n",
    "X_test_las_scaled    = las.transform(x_test.values)\n",
    "\n",
    "lasso = Lasso(alpha=0.02,normalize=True)\n",
    "lasso.fit(X_train_las_scaled,y_train_val)\n",
    "\n",
    "\n",
    "# ----------------- #\n",
    "\n",
    "# Pollynomial Regression #\n",
    "poly = PolynomialFeatures(degree=1) \n",
    "\n",
    "X_train_poly = poly.fit_transform(X_train_val.values)\n",
    "X_val_poly = poly.transform(X_test_val.values)\n",
    "X_test_poly = poly.transform(x_test.values)\n",
    "\n",
    "model_polly = LinearRegression()\n",
    "model_polly.fit(X_train_poly,y_train_val)\n",
    "\n",
    "\n",
    "# -------------------- #\n",
    "\n",
    "# Print r'2 each model #\n",
    "\n",
    "print(f'Linear Regression val R^2: {lineer_model.score(X_test_val, y_test_val):.3f}')\n",
    "print(f'Alpha=5 Ridge Regression val R^2: {ridge_model.score(X_val_scaled, y_test_val):.3f}')\n",
    "print(f'Degree 1 polynomial regression val R^2: {model_polly.score(X_val_poly, y_test_val):.3f}')\n",
    "print('Lasso Regression R^2 : ', lasso.score(X_val_las_scaled,y_test_val))"
   ]
  },
  {
   "cell_type": "markdown",
   "metadata": {},
   "source": [
    "## All results are very close, however, there is an issue to be considered; y_test contains small data.\n",
    "\n",
    "I think Lineer Regression is the best this dataset."
   ]
  },
  {
   "cell_type": "code",
   "execution_count": 1169,
   "metadata": {
    "scrolled": true
   },
   "outputs": [
    {
     "name": "stdout",
     "output_type": "stream",
     "text": [
      "Lineer Model Score :  0.849929625852405\n",
      "Yıllık_Değişim    1.849944\n",
      "dtype: float64\n"
     ]
    }
   ],
   "source": [
    "model_best = LinearRegression()\n",
    "model_best.fit(x_train,y_train)\n",
    "\n",
    "print(\"Lineer Model Score : \",model_best.score(x_test,y_test))\n",
    "pred = model_best.predict(x_test)\n",
    "print(np.mean((pred - y_test)**2))\n",
    "\n"
   ]
  },
  {
   "cell_type": "markdown",
   "metadata": {},
   "source": [
    "Ups :(   \n",
    "Model score is down. Add a few more columns that affect Dep Variable in corr ().\n",
    "USD-5-4-3-2-1"
   ]
  },
  {
   "cell_type": "code",
   "execution_count": 1257,
   "metadata": {},
   "outputs": [
    {
     "name": "stdout",
     "output_type": "stream",
     "text": [
      "Lineer Regression Score :  0.8863496880219517\n"
     ]
    }
   ],
   "source": [
    "y1 ,x1 = patsy.dmatrices('Yıllık_Değişim ~ TP_TRY_MT05_K + TP_TRY_MT02_K + TP_TRY_MT03_K + TP_TRY_MT01_K + TP_TRY_MT04_K+TP_USD_MT05_K+TP_USD_MT03_K+TP_USD_MT04_K+TP_USD_MT01_K+TP_USD_MT02_K' ,data=interest, return_type=\"dataframe\")\n",
    "x_train , x_test, y_train, y_test = train_test_split(x1,y1, test_size=.2, random_state=10)\n",
    "model_best.fit(x_train,y_train)\n",
    "print(\"Lineer Regression Score : \",model_best.score(x_test,y_test))"
   ]
  },
  {
   "cell_type": "markdown",
   "metadata": {},
   "source": [
    "#### I have a NaN values on _MT05_K columns. This made a problem. "
   ]
  },
  {
   "cell_type": "code",
   "execution_count": 1260,
   "metadata": {},
   "outputs": [
    {
     "data": {
      "text/plain": [
       "Yıllık_Değişim    1.000000\n",
       "TP_TRY_MT05_K     0.935510\n",
       "TP_TRY_MT02_K     0.665635\n",
       "TP_TRY_MT03_K     0.647833\n",
       "TP_TRY_MT01_K     0.646813\n",
       "TP_TRY_MT04_K     0.640902\n",
       "TP_USD_MT05_K     0.551685\n",
       "TP_USD_MT03_K     0.345378\n",
       "TP_USD_MT04_K     0.324247\n",
       "Aylık_Değişim     0.297567\n",
       "TP_USD_MT02_K     0.291467\n",
       "TP_USD_MT01_K     0.265490\n",
       "TP_EUR_MT01_K    -0.042536\n",
       "TP_EUR_MT02_K    -0.063572\n",
       "TP_EUR_MT03_K    -0.179917\n",
       "TP_EUR_MT05_K    -0.231086\n",
       "TP_EUR_MT04_K    -0.254013\n",
       "Name: Yıllık_Değişim, dtype: float64"
      ]
     },
     "execution_count": 1260,
     "metadata": {},
     "output_type": "execute_result"
    }
   ],
   "source": [
    "interest.corr()['Yıllık_Değişim'].sort_values(ascending=False)"
   ]
  },
  {
   "cell_type": "markdown",
   "metadata": {},
   "source": [
    "##### I think that the \"Aylık_Değişim\" column will affect the prediction column."
   ]
  },
  {
   "cell_type": "code",
   "execution_count": 1259,
   "metadata": {},
   "outputs": [],
   "source": [
    "interest['Aylık_Değişim'] = round(interest.Aylık_Değişim)\n",
    "\n",
    "#run model again, you'll be see the score changed."
   ]
  }
 ],
 "metadata": {
  "kernelspec": {
   "display_name": "Python 3",
   "language": "python",
   "name": "python3"
  },
  "language_info": {
   "codemirror_mode": {
    "name": "ipython",
    "version": 3
   },
   "file_extension": ".py",
   "mimetype": "text/x-python",
   "name": "python",
   "nbconvert_exporter": "python",
   "pygments_lexer": "ipython3",
   "version": "3.7.4"
  }
 },
 "nbformat": 4,
 "nbformat_minor": 2
}
